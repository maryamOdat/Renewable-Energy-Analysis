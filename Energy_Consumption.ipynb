{
  "cells": [
    {
      "cell_type": "markdown",
      "metadata": {
        "id": "r4eHo-L3eE6X"
      },
      "source": [
        "#**The Renewable Energy Analysis, Prediction, and the potential capacity to achieve a sustainable Economic Development.**\n",
        "\n"
      ]
    },
    {
      "cell_type": "markdown",
      "metadata": {
        "id": "12zeBO1-eUEr"
      },
      "source": [
        "##**The Prediction of Primary Energy Consumption**\n",
        "Multiple Linear Regression Model\n",
        "\n",
        "Team #17 | Batool Khanfar, Diyaa Alhariri , Omar, Maryam Odat"
      ]
    },
    {
      "cell_type": "markdown",
      "metadata": {
        "id": "HeNVgPM7ngRZ"
      },
      "source": [
        "##Imports Libraries:"
      ]
    },
    {
      "cell_type": "code",
      "execution_count": null,
      "metadata": {
        "id": "wrEKMohTjPb1"
      },
      "outputs": [],
      "source": [
        "import numpy as np\n",
        "import pandas as pd\n",
        "import statsmodels.api as sm\n",
        "import statsmodels.formula.api as smf\n",
        "import seaborn as sns\n",
        "import matplotlib.pyplot as plt\n",
        "from sklearn import preprocessing"
      ]
    },
    {
      "cell_type": "code",
      "execution_count": null,
      "metadata": {
        "id": "lFv9hDLbjUNb"
      },
      "outputs": [],
      "source": [
        "import numpy as np\n",
        "import pandas as pd\n",
        "from sklearn.linear_model import LinearRegression\n",
        "from sklearn.model_selection import train_test_split\n",
        "from sklearn.metrics import mean_squared_error, r2_score"
      ]
    },
    {
      "cell_type": "markdown",
      "metadata": {
        "id": "2jHHeb3Jnwsz"
      },
      "source": [
        "##Import The Data:"
      ]
    },
    {
      "cell_type": "code",
      "execution_count": null,
      "metadata": {
        "colab": {
          "base_uri": "https://localhost:8080/",
          "height": 304
        },
        "id": "2GCX2d7Hr6X3",
        "outputId": "a86656f2-4179-472f-9b33-d85c39688e6f"
      },
      "outputs": [],
      "source": [
        "df = pd.read_csv('/content/dataframe_csv.csv')\n",
        "df"
      ]
    },
    {
      "cell_type": "markdown",
      "metadata": {
        "id": "UwlYLsG3n5tt"
      },
      "source": [
        "##Data Pre-Processing:"
      ]
    },
    {
      "cell_type": "code",
      "execution_count": null,
      "metadata": {
        "id": "JvdQo6uQmVG0"
      },
      "outputs": [],
      "source": [
        "df.columns"
      ]
    },
    {
      "cell_type": "code",
      "execution_count": null,
      "metadata": {
        "id": "jYhrs2adzRi4"
      },
      "outputs": [],
      "source": [
        "df.head()"
      ]
    },
    {
      "cell_type": "code",
      "execution_count": null,
      "metadata": {
        "id": "clDq59EGzmJ7"
      },
      "outputs": [],
      "source": [
        "df.shape"
      ]
    },
    {
      "cell_type": "code",
      "execution_count": null,
      "metadata": {
        "id": "GhMQI5Xjn4w8"
      },
      "outputs": [],
      "source": [
        "df.describe()"
      ]
    },
    {
      "cell_type": "code",
      "execution_count": null,
      "metadata": {
        "id": "3B6KAvYQzztC"
      },
      "outputs": [],
      "source": [
        "df.isnull().sum()"
      ]
    },
    {
      "cell_type": "code",
      "execution_count": null,
      "metadata": {
        "id": "K18Zvdp9z9oV"
      },
      "outputs": [],
      "source": [
        "df.duplicated().sum()"
      ]
    },
    {
      "cell_type": "code",
      "execution_count": null,
      "metadata": {
        "id": "iXWUog840Cod"
      },
      "outputs": [],
      "source": [
        "df.info()"
      ]
    },
    {
      "cell_type": "code",
      "execution_count": null,
      "metadata": {
        "id": "WRNQVaFsnnb4"
      },
      "outputs": [],
      "source": [
        "df.dtypes"
      ]
    },
    {
      "cell_type": "code",
      "execution_count": null,
      "metadata": {
        "id": "DBL1xUnH0IJb"
      },
      "outputs": [],
      "source": [
        "df.corr()"
      ]
    },
    {
      "cell_type": "code",
      "execution_count": null,
      "metadata": {
        "id": "j5S5lL3sl6RW"
      },
      "outputs": [],
      "source": [
        "Renewable_energy_production = df['Total_Renewable_energy_production_GWh']\n",
        "X = df.drop(['Electricity_from_solar_TWh', 'Electricity_from_hydro_TWh', 'Renewables_percentage_electricity', 'Continent','Electricity_from_solar_TWh', 'Electricity from wind (TWh)', 'Unnamed: 0', 'Code', 'Other renewables_including_bioenergy_TWh', 'Total_enewable_energy_production_TWh', 'Entity', 'Unnamed: 9', 'Primary_energy_consumption_TWh', 'Electricity_from_wind_GWh', 'Electricity_from_hydro_GWh',\n",
        "       'Electricity_from_solar_GWh','Other_renewables_including_bioenergy_GWh','Total_Renewable_energy_production_GWh','Year'], axis=1)\n",
        "df['Renewable_energy'] = Renewable_energy_production\n",
        "df"
      ]
    },
    {
      "cell_type": "code",
      "execution_count": null,
      "metadata": {
        "id": "gy47YqB23G8w"
      },
      "outputs": [],
      "source": [
        "X.columns"
      ]
    },
    {
      "cell_type": "code",
      "execution_count": null,
      "metadata": {
        "id": "5nZH2iD2263U"
      },
      "outputs": [],
      "source": [
        "X.shape"
      ]
    },
    {
      "cell_type": "code",
      "execution_count": null,
      "metadata": {
        "id": "XWChpjhR3WtW"
      },
      "outputs": [],
      "source": [
        "X.info"
      ]
    },
    {
      "cell_type": "markdown",
      "metadata": {
        "id": "pMQXMGtR6fvA"
      },
      "source": [
        "Checking the outliers in the Primary_energy_consumption_GWh"
      ]
    },
    {
      "cell_type": "code",
      "execution_count": null,
      "metadata": {
        "id": "3yKL0_sy48un"
      },
      "outputs": [],
      "source": [
        "outliers= ['Primary_energy_consumption_GWh']\n",
        "plt.rcParams['figure.figsize'] = [4, 4]\n",
        "sns.boxplot(x=X['Primary_energy_consumption_GWh'], orient=\"v\", palette=\"husl\", width=0.7)\n",
        "\n",
        "plt.title(\"Outliers Variable Distribution\")\n",
        "plt.ylabel(\"Primary Energy Consumption Rang\")\n",
        "plt.show()\n"
      ]
    },
    {
      "cell_type": "markdown",
      "metadata": {
        "id": "ti1zTUVq7zZS"
      },
      "source": [
        "The outliers by the Continent"
      ]
    },
    {
      "cell_type": "code",
      "execution_count": null,
      "metadata": {
        "id": "-mYAeS_v7pmn"
      },
      "outputs": [],
      "source": [
        "sns.boxplot(x='Continent', y='Primary_energy_consumption_GWh', data=df, palette='husl')\n",
        "plt.title(\"Outliers Variable Distribution\")\n",
        "plt.show()"
      ]
    },
    {
      "cell_type": "code",
      "execution_count": null,
      "metadata": {
        "id": "yyhv_0Ft8BtH"
      },
      "outputs": [],
      "source": [
        "sns.histplot(X['Primary_energy_consumption_GWh'],bins=5,kde=True)\n",
        "plt.show()"
      ]
    },
    {
      "cell_type": "code",
      "execution_count": null,
      "metadata": {
        "id": "wsmeGK4L9UAI"
      },
      "outputs": [],
      "source": [
        "sns.pairplot(X)\n",
        "plt.show()"
      ]
    },
    {
      "cell_type": "code",
      "execution_count": null,
      "metadata": {
        "id": "W7H5i6w0-rCW"
      },
      "outputs": [],
      "source": [
        "X.columns"
      ]
    },
    {
      "cell_type": "code",
      "execution_count": null,
      "metadata": {
        "id": "8PKklS77_mU2"
      },
      "outputs": [],
      "source": [
        "df_Continent = pd.get_dummies(df['Continent'])"
      ]
    },
    {
      "cell_type": "code",
      "execution_count": null,
      "metadata": {
        "id": "TLBMXob5AJLo"
      },
      "outputs": [],
      "source": [
        "df_Continent"
      ]
    },
    {
      "cell_type": "code",
      "execution_count": null,
      "metadata": {
        "id": "_45ChSIPAJ98"
      },
      "outputs": [],
      "source": [
        "X = pd.concat([X, df_Continent], axis=1)\n"
      ]
    },
    {
      "cell_type": "markdown",
      "metadata": {
        "id": "F31TSPybwAhb"
      },
      "source": [
        "#**Normalization:**"
      ]
    },
    {
      "cell_type": "code",
      "execution_count": null,
      "metadata": {
        "id": "uVsJlpdgAKMv"
      },
      "outputs": [],
      "source": [
        "X"
      ]
    },
    {
      "cell_type": "code",
      "execution_count": null,
      "metadata": {
        "id": "Oi6a4HLUEf4Z"
      },
      "outputs": [],
      "source": [
        "X.columns"
      ]
    },
    {
      "cell_type": "code",
      "execution_count": null,
      "metadata": {
        "id": "LIdz46yvxh1q"
      },
      "outputs": [],
      "source": [
        "X_normal= X[[\n",
        "     'AREA_KM2', 'Population', 'GDP', 'Primary_energy_consumption_GWh'\n",
        "       ]]"
      ]
    },
    {
      "cell_type": "code",
      "execution_count": null,
      "metadata": {
        "id": "ep14OdCbx7aL"
      },
      "outputs": [],
      "source": [
        "scaler = preprocessing.MinMaxScaler(feature_range=(0, 1))\n",
        "d = scaler.fit_transform(X_normal)\n",
        "X_normal = pd.DataFrame(d, columns=X_normal.columns)"
      ]
    },
    {
      "cell_type": "code",
      "execution_count": null,
      "metadata": {
        "id": "_yFbjJqIypO3"
      },
      "outputs": [],
      "source": [
        "X_normal = pd.concat([X_normal, df_Continent], axis=1)"
      ]
    },
    {
      "cell_type": "code",
      "execution_count": null,
      "metadata": {
        "id": "0mO3cPS5AKdg"
      },
      "outputs": [],
      "source": [
        "Y = X['Primary_energy_consumption_GWh']"
      ]
    },
    {
      "cell_type": "code",
      "execution_count": null,
      "metadata": {
        "id": "taPfyLW-E-0W"
      },
      "outputs": [],
      "source": [
        "Y"
      ]
    },
    {
      "cell_type": "code",
      "execution_count": null,
      "metadata": {
        "id": "26zZNh2_3l5P"
      },
      "outputs": [],
      "source": [
        "X_normal.columns"
      ]
    },
    {
      "cell_type": "code",
      "execution_count": null,
      "metadata": {
        "id": "T6obWemi3GY_"
      },
      "outputs": [],
      "source": [
        "X_normal = X_normal[['AREA_KM2', 'Population', 'GDP']]"
      ]
    },
    {
      "cell_type": "markdown",
      "metadata": {
        "id": "YX_WkQ5sgUQi"
      },
      "source": [
        "##**Train & Test The Data:**"
      ]
    },
    {
      "cell_type": "code",
      "execution_count": null,
      "metadata": {
        "id": "X7t3mLi_5aYX"
      },
      "outputs": [],
      "source": [
        "X_train, X_test, Y_train, Y_test = train_test_split( X_normal, Y, test_size = 0.3, random_state = 10 )"
      ]
    },
    {
      "cell_type": "code",
      "execution_count": null,
      "metadata": {
        "id": "zRu8xqtT5ab8"
      },
      "outputs": [],
      "source": [
        "X_train"
      ]
    },
    {
      "cell_type": "code",
      "execution_count": null,
      "metadata": {
        "id": "tPOlkw1xtam1"
      },
      "outputs": [],
      "source": [
        "Y_train"
      ]
    },
    {
      "cell_type": "markdown",
      "metadata": {
        "id": "vNxWpfb5Hc42"
      },
      "source": [
        "##**Model Creation:**"
      ]
    },
    {
      "cell_type": "code",
      "execution_count": null,
      "metadata": {
        "id": "fEOPEQ0b5afJ"
      },
      "outputs": [],
      "source": [
        "model =LinearRegression( )"
      ]
    },
    {
      "cell_type": "code",
      "execution_count": null,
      "metadata": {
        "id": "PtVURHIlsctO"
      },
      "outputs": [],
      "source": [
        "import numpy as np\n",
        "from sklearn.linear_model import LinearRegression\n",
        "from sklearn.model_selection import train_test_split\n",
        "from sklearn.impute import SimpleImputer\n",
        "\n",
        "\n",
        "imputer = SimpleImputer(strategy='mean')\n",
        "\n",
        "# Fitted the imputer on X_train to compute the mean of each column\n",
        "imputer.fit(X_train)\n",
        "\n",
        "# Transformed X_train by filling in the missing values with the mean\n",
        "X_train_imputed = imputer.transform(X_train)\n",
        "\n",
        "model = LinearRegression()\n",
        "model.fit(X_train_imputed, Y_train)\n"
      ]
    },
    {
      "cell_type": "code",
      "execution_count": null,
      "metadata": {
        "id": "WaVO4_agjmqq"
      },
      "outputs": [],
      "source": [
        "X_test_imputed = imputer.transform(X_test)"
      ]
    },
    {
      "cell_type": "code",
      "execution_count": null,
      "metadata": {
        "id": "RIa_AwQFs0HD"
      },
      "outputs": [],
      "source": [
        "import pandas as pd\n",
        "from sklearn.linear_model import LinearRegression\n",
        "from sklearn.model_selection import train_test_split\n",
        "from sklearn.impute import SimpleImputer\n",
        "from sklearn.metrics import mean_squared_error, r2_score, mean_absolute_error\n",
        "\n",
        "\n",
        "# Created an instance of the SimpleImputer with strategy='mean'\n",
        "imputer = SimpleImputer(strategy='mean')\n",
        "\n",
        "# Fitted the imputer on X_train to compute the mean of each column\n",
        "imputer.fit(X_train)\n",
        "\n",
        "# Transformed X_train and X_test by filling in the missing values with the mean\n",
        "X_train_imputed = imputer.transform(X_train)\n",
        "X_test_imputed = imputer.transform(X_test)\n",
        "\n",
        "model = LinearRegression()\n",
        "model.fit(X_train_imputed, Y_train)\n",
        "\n",
        "\n",
        "Y_pred = model.predict(X_test_imputed)\n"
      ]
    },
    {
      "cell_type": "code",
      "execution_count": null,
      "metadata": {
        "id": "qSLMK0wt60u9"
      },
      "outputs": [],
      "source": [
        "from sklearn.metrics import mean_absolute_error\n",
        "\n",
        "mae = mean_absolute_error(Y_test, Y_pred)\n",
        "print(\"Mean Absolute Error:\", mae)\n"
      ]
    },
    {
      "cell_type": "code",
      "execution_count": null,
      "metadata": {
        "id": "QCnVYf0MxHi2"
      },
      "outputs": [],
      "source": [
        "from sklearn.linear_model import LinearRegression\n",
        "from sklearn.impute import SimpleImputer\n",
        "\n",
        "# Assuming you have X_train and Y_train as your training data\n",
        "# Create an imputer to replace NaN values with mean of the column\n",
        "imputer = SimpleImputer(strategy='mean')\n",
        "X_train_imputed = imputer.fit_transform(X_train)\n",
        "\n",
        "regressor = LinearRegression()\n",
        "regressor.fit(X_train_imputed, Y_train)\n",
        "\n",
        "\n",
        "print(\"Value of the coefficients: \\n\", regressor.coef_)"
      ]
    },
    {
      "cell_type": "markdown",
      "metadata": {
        "id": "wFQe6Vq-3xU7"
      },
      "source": [
        "Without alpha\n",
        "Value of the oefficients:\n",
        " [ 1.00000000e+00 -2.31923182e-20 -9.10330048e-21 -2.31221710e-25\n",
        "  2.62714842e-16  1.15469267e-17 -5.63188601e-18 -2.80801818e-17\n",
        "  2.42648052e-17 -1.10198361e-15 -9.29254433e-16 -8.60154978e-16\n",
        " -9.34912520e-16 -1.10946944e-15  4.93998787e-15]"
      ]
    },
    {
      "cell_type": "code",
      "execution_count": null,
      "metadata": {
        "id": "o_fbkAZZ60i-"
      },
      "outputs": [],
      "source": [
        "me = mean_squared_error( Y_test, Y_pred)\n",
        "print(f\"Mean square error: {me}\")"
      ]
    },
    {
      "cell_type": "code",
      "execution_count": null,
      "metadata": {
        "id": "ei8K_S5x8WHu"
      },
      "outputs": [],
      "source": [
        "pip install --upgrade scikit-learn"
      ]
    },
    {
      "cell_type": "code",
      "execution_count": null,
      "metadata": {
        "id": "AWZihQCH8qGy"
      },
      "outputs": [],
      "source": [
        "# The value of the coefficient of determination, i.e., R-square score of the model\n",
        "score = r2_score( Y_test, Y_pred )\n",
        "print(\"Coefficient of determination {} : \".format(round(score,2)))"
      ]
    },
    {
      "cell_type": "code",
      "execution_count": null,
      "metadata": {
        "id": "bHLck7ohDMXH"
      },
      "outputs": [],
      "source": [
        "Y_test"
      ]
    },
    {
      "cell_type": "code",
      "execution_count": null,
      "metadata": {
        "id": "jIdNJLPiDMjO"
      },
      "outputs": [],
      "source": [
        "Y_pred"
      ]
    },
    {
      "cell_type": "code",
      "execution_count": null,
      "metadata": {
        "id": "xBYykhRofkUh"
      },
      "outputs": [],
      "source": [
        "\n",
        "Y_pred_df = pd.DataFrame({\"Predicted_Primary_energy_consumption_GWh\": Y_pred})\n",
        "\n",
        "# Display the DataFrame\n",
        "print(Y_pred_df)\n"
      ]
    },
    {
      "cell_type": "code",
      "execution_count": null,
      "metadata": {
        "id": "Vllurz68DZaf"
      },
      "outputs": [],
      "source": [
        "sns.regplot(x=Y_test, y=Y_pred)"
      ]
    },
    {
      "cell_type": "markdown",
      "metadata": {
        "id": "O1c2u4TGzx4X"
      },
      "source": [
        "The error percentage is high due to limited data. To improve the model, we had to purchase more data for better renewable energy analysis and sustainable economic predictions."
      ]
    }
  ],
  "metadata": {
    "colab": {
      "provenance": []
    },
    "kernelspec": {
      "display_name": "Python 3",
      "name": "python3"
    },
    "language_info": {
      "name": "python"
    }
  },
  "nbformat": 4,
  "nbformat_minor": 0
}
